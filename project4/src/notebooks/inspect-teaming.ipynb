{
 "cells": [
  {
   "cell_type": "code",
   "execution_count": 1,
   "metadata": {
    "collapsed": true
   },
   "outputs": [],
   "source": [
    "import pandas as pd\n",
    "from collections import Counter\n",
    "import math"
   ]
  },
  {
   "cell_type": "code",
   "execution_count": 2,
   "metadata": {
    "collapsed": true
   },
   "outputs": [],
   "source": [
    "teaming = pd.read_csv('../results/20170730-221813/teaming2.out', header=None, names=['hash','team','semester'])\n",
    "data = pd.read_csv('../project4.csv')"
   ]
  },
  {
   "cell_type": "code",
   "execution_count": 3,
   "metadata": {},
   "outputs": [
    {
     "data": {
      "text/html": [
       "<div>\n",
       "<style>\n",
       "    .dataframe thead tr:only-child th {\n",
       "        text-align: right;\n",
       "    }\n",
       "\n",
       "    .dataframe thead th {\n",
       "        text-align: left;\n",
       "    }\n",
       "\n",
       "    .dataframe tbody tr th {\n",
       "        vertical-align: top;\n",
       "    }\n",
       "</style>\n",
       "<table border=\"1\" class=\"dataframe\">\n",
       "  <thead>\n",
       "    <tr style=\"text-align: right;\">\n",
       "      <th></th>\n",
       "      <th>hash</th>\n",
       "      <th>team</th>\n",
       "      <th>semester</th>\n",
       "    </tr>\n",
       "  </thead>\n",
       "  <tbody>\n",
       "    <tr>\n",
       "      <th>0</th>\n",
       "      <td>8896b6354cd35afd2e5ae3d690979490</td>\n",
       "      <td>0</td>\n",
       "      <td>ST-16</td>\n",
       "    </tr>\n",
       "    <tr>\n",
       "      <th>1</th>\n",
       "      <td>91aa98d72504dc8abbc98b6e5d376927</td>\n",
       "      <td>0</td>\n",
       "      <td>ST-16</td>\n",
       "    </tr>\n",
       "    <tr>\n",
       "      <th>2</th>\n",
       "      <td>729d43e103d18246e36e3b37f7080c45</td>\n",
       "      <td>0</td>\n",
       "      <td>ST-16</td>\n",
       "    </tr>\n",
       "    <tr>\n",
       "      <th>3</th>\n",
       "      <td>362be6f258a90bd5939961dab97a5414</td>\n",
       "      <td>0</td>\n",
       "      <td>ST-16</td>\n",
       "    </tr>\n",
       "    <tr>\n",
       "      <th>4</th>\n",
       "      <td>8714daecb7866f07220d7e3f5cd80be5</td>\n",
       "      <td>0</td>\n",
       "      <td>ST-16</td>\n",
       "    </tr>\n",
       "  </tbody>\n",
       "</table>\n",
       "</div>"
      ],
      "text/plain": [
       "                               hash  team semester\n",
       "0  8896b6354cd35afd2e5ae3d690979490     0    ST-16\n",
       "1  91aa98d72504dc8abbc98b6e5d376927     0    ST-16\n",
       "2  729d43e103d18246e36e3b37f7080c45     0    ST-16\n",
       "3  362be6f258a90bd5939961dab97a5414     0    ST-16\n",
       "4  8714daecb7866f07220d7e3f5cd80be5     0    ST-16"
      ]
     },
     "execution_count": 3,
     "metadata": {},
     "output_type": "execute_result"
    }
   ],
   "source": [
    "teaming.head()"
   ]
  },
  {
   "cell_type": "code",
   "execution_count": 4,
   "metadata": {
    "scrolled": true
   },
   "outputs": [
    {
     "name": "stdout",
     "output_type": "stream",
     "text": [
      "     team  Sex            Discipline                 Nationality Semester\n",
      "0       0    f              Business                      German    ST-16\n",
      "1       0    f           Engineering                      German    ST-16\n",
      "2       0    m           Engineering                      German    ST-16\n",
      "3       0    m         Life Sciences                     Russian    ST-16\n",
      "4       0    f  Creative Disciplines                      German    ST-16\n",
      "5       1    f            Humanities                      German    ST-16\n",
      "6       1    m           Engineering                     Chilean    ST-16\n",
      "7       1    m              Business                      German    ST-16\n",
      "8       1    f              Business                      German    ST-16\n",
      "9       1    m       Social Sciences                      German    ST-16\n",
      "10      2    f           Engineering                      German    ST-16\n",
      "11      2    f              Business                     Mexican    ST-16\n",
      "12      2    f              Business                      German    ST-16\n",
      "13      2    m            Humanities              American or US    ST-16\n",
      "14      2    m  Creative Disciplines                      German    ST-16\n",
      "15      3    m           Engineering                     Chilean    ST-16\n",
      "16      3    m           Engineering                      German    ST-16\n",
      "17      3    f              Business                      German    ST-16\n",
      "18      3    f       Social Sciences                      German    ST-16\n",
      "19      3    F            Humanities                      German    ST-16\n",
      "20      4    f  Creative Disciplines                      Danish    ST-16\n",
      "21      4    f              Business                      German    ST-16\n",
      "22      4    m           Engineering                      German    ST-16\n",
      "23      4    m       Social Sciences                      German    ST-16\n",
      "24      4    f         Life Sciences                      German    WT-15\n",
      "25      4    f         Life Sciences                      German    ST-16\n",
      "26      4    f         Life Sciences                      German    WT-15\n",
      "27      4    f         Life Sciences                      German    ST-16\n",
      "28      5    f           Engineering                      German    ST-16\n",
      "29      5    m       Social Sciences                      German    ST-16\n",
      "30      5    f              Business                      German    ST-16\n",
      "31      5    m              Business                      German    ST-16\n",
      "32      5    f  Creative Disciplines                     Russian    ST-16\n",
      "33      6    f       Social Sciences                      German    ST-16\n",
      "34      6    m         Life Sciences                      German    ST-16\n",
      "35      6    m           Engineering                  Vietnamese    ST-16\n",
      "36      6    f              Business                      German    ST-16\n",
      "37      6    f              Business                      German    ST-16\n",
      "38      7    m              Business                      German    ST-16\n",
      "39      7    m       Social Sciences                      German    ST-16\n",
      "40      7    f           Engineering                      German    ST-16\n",
      "41      7    f                 Media                      German    ST-16\n",
      "42      7    f              Business      Dutch or Netherlandish    ST-16\n",
      "43      8    f              Business                      German    ST-16\n",
      "44      8    m           Engineering                     Chilean    ST-16\n",
      "45      8    f           Engineering                      German    ST-16\n",
      "46      8    f         Life Sciences                      German    ST-16\n",
      "47      8    m  Creative Disciplines                      German    ST-16\n",
      "48      9    f              Business                      German    ST-16\n",
      "49      9    m              Business                      German    ST-16\n",
      "50      9    f           Engineering                      German    ST-16\n",
      "51      9    f            Humanities                     Chinese    ST-16\n",
      "52      9    m  Creative Disciplines                      German    ST-16\n",
      "53     10    m           Engineering                      Indian    ST-16\n",
      "54     10    m              Business                      German    ST-16\n",
      "55     10    f         Life Sciences                      German    ST-16\n",
      "56     10    m           Engineering                      German    ST-16\n",
      "57     10    f  Creative Disciplines                    Austrian    ST-16\n",
      "58     11    f       Social Sciences                      German    ST-16\n",
      "59     11    f              Business                      German    ST-16\n",
      "60     11    m           Engineering                      German    ST-16\n",
      "61     11    f  Creative Disciplines      Dutch or Netherlandish    ST-16\n",
      "62     11    m              Business                      German    ST-16\n",
      "63     12    f  Creative Disciplines                   Argentine    ST-16\n",
      "64     12    m           Engineering                      German    ST-16\n",
      "65     12    m              Business                      German    ST-16\n",
      "66     12    f           Engineering                      Danish    ST-16\n",
      "67     12    m              Business                      German    ST-16\n",
      "68     13    m              Business                      German    ST-16\n",
      "69     13    f       Social Sciences                    Japanese    ST-16\n",
      "70     13    m           Engineering                      German    ST-16\n",
      "71     13    m           Engineering                      German    ST-16\n",
      "72     13    f              Business                      German    ST-16\n",
      "73     14    f  Creative Disciplines                      German    ST-16\n",
      "74     14    f              Business                      Polish    ST-16\n",
      "75     14    f            Humanities                     Italian    ST-16\n",
      "76     14    m       Social Sciences                      German    ST-16\n",
      "77     14    m           Engineering                      German    ST-16\n",
      "78     15    m       Social Sciences                      German    ST-16\n",
      "79     15    f            Humanities                      German    ST-16\n",
      "80     15    f         Life Sciences                      German    ST-16\n",
      "81     15    m           Engineering                   Argentine    ST-16\n",
      "82     15    m              Business                      German    ST-16\n",
      "83      0    m                 Media                  Lithuanian    WT-16\n",
      "84      0    f              Business                      German    WT-16\n",
      "85      0    f       Social Sciences               Luxembourgish    WT-16\n",
      "86      0    f         Life Sciences                      German    WT-16\n",
      "87      0    m           Engineering                      German    WT-16\n",
      "88      1    f  Creative Disciplines                      German    WT-16\n",
      "89      1    f         Life Sciences                      Kenyan    WT-16\n",
      "90      1    f              Business                    Egyptian    WT-16\n",
      "91      1    m           Engineering                      German    WT-16\n",
      "92      1    m           Engineering                      German    WT-16\n",
      "93      2    f              Business                      German    WT-16\n",
      "94      2    f       Social Sciences                     Russian    WT-16\n",
      "95      2    m  Creative Disciplines                      German    WT-16\n",
      "96      2    m                 Media                      German    WT-16\n",
      "97      2    m           Engineering                      German    WT-16\n",
      "98      3    m  Creative Disciplines                     Italian    WT-16\n",
      "99      3    f            Humanities                      German    WT-16\n",
      "100     3    f              Business                      German    WT-16\n",
      "101     3    f         Life Sciences                      German    WT-16\n",
      "102     3    m           Engineering                      German    WT-16\n",
      "103     4    m              Business                      German    WT-16\n",
      "104     4    m         Life Sciences                      German    WT-16\n",
      "105     4    m  Creative Disciplines                      German    WT-16\n",
      "106     4    f       Social Sciences              American or US    WT-16\n",
      "107     4    f           Engineering                      German    WT-16\n",
      "108     5    f                 Media                      German    WT-16\n",
      "109     5    m       Social Sciences                      German    WT-16\n",
      "110     5    f  Creative Disciplines                      Polish    WT-16\n",
      "111     5    m           Engineering                      German    WT-16\n",
      "112     5    f              Business                      German    WT-16\n",
      "113     6    m           Engineering                      German    WT-16\n",
      "114     6    f              Business    Ecuadorean or Ecuadorian    WT-16\n",
      "115     6    f  Creative Disciplines                      German    WT-16\n",
      "116     6    f       Social Sciences                    Austrian    WT-16\n",
      "117     6    m           Engineering                      German    WT-16\n",
      "118     7    f  Creative Disciplines                     Chinese    WT-16\n",
      "119     7    m              Business                    Canadian    WT-16\n",
      "120     7    f              Business                      German    WT-16\n",
      "121     7    f                 Media                      German    WT-16\n",
      "122     7    m           Engineering                      German    WT-16\n",
      "123     8    f       Social Sciences                      German    WT-16\n",
      "124     8    f         Life Sciences                      German    WT-16\n",
      "125     8    f              Business                      German    WT-16\n",
      "126     8    m  Creative Disciplines      Slovenian (or Slovene)    WT-16\n",
      "127     8    m           Engineering                      German    WT-16\n",
      "128     9    m       Social Sciences                      German    WT-16\n",
      "129     9    m           Engineering                      German    WT-16\n",
      "130     9    f           Engineering                      German    WT-16\n",
      "131     9    f              Business                      French    WT-16\n",
      "132     9    f            Humanities                      German    WT-16\n",
      "133    10    m            Humanities                      German    WT-16\n",
      "134    10    f       Social Sciences                  Australian    WT-16\n",
      "135    10    f           Engineering                  Vietnamese    WT-16\n",
      "136    10    m              Business                      German    WT-16\n",
      "137    10    m           Engineering                      German    WT-16\n",
      "138    11    m           Engineering                      German    WT-16\n",
      "139    11    f              Business                      German    WT-16\n",
      "140    11    m           Engineering                    Moroccan    WT-16\n",
      "141    11    m              Business                    Egyptian    WT-16\n",
      "142    11    f       Social Sciences                      German    WT-16\n",
      "143    12    m           Engineering                      German    WT-16\n",
      "144    12    f       Social Sciences                      German    WT-16\n",
      "145    12    f              Business                      German    WT-16\n",
      "146    12    m           Engineering                      German    WT-16\n",
      "147    12    f              Business              American or US    WT-16\n",
      "148    13    f  Creative Disciplines                    Austrian    WT-16\n",
      "149    13    m           Engineering                      German    WT-16\n",
      "150    13    f                 Media                     Spanish    WT-16\n",
      "151    13    m       Social Sciences                      German    WT-16\n",
      "152    13    f              Business                      German    WT-16\n",
      "153    14    f                 Media                      German    WT-16\n",
      "154    14    m              Business                      German    WT-16\n",
      "155    14    m           Engineering                     Chilean    WT-16\n",
      "156    14    f              Business                      German    WT-16\n",
      "157    14    m           Engineering                      German    WT-16\n",
      "158    15    f         Life Sciences                       Swiss    WT-16\n",
      "159    15    m           Engineering                      German    WT-16\n",
      "160    15    m  Creative Disciplines                      German    WT-16\n",
      "161    15    f       Social Sciences                      Danish    WT-16\n",
      "162    15    m              Business                      German    WT-16\n",
      "163     0    f                 Media                      German    ST-17\n",
      "164     0    m              Business                      German    ST-17\n",
      "165     0    m           Engineering                      German    ST-17\n",
      "166     0    m  Creative Disciplines                      German    ST-17\n",
      "167     0    f       Social Sciences                     Chinese    ST-17\n",
      "168     1    m              Business                      German    ST-17\n",
      "169     1    m           Engineering                      German    ST-17\n",
      "170     1    f       Social Sciences           German/Vietnamese    ST-17\n",
      "171     1    f            Humanities                      German    ST-17\n",
      "172     1    f  Creative Disciplines                      German    ST-17\n",
      "173     2    f           Engineering                      German    ST-17\n",
      "174     2    m       Social Sciences                      German    ST-17\n",
      "175     2    m  Creative Disciplines                      German    ST-17\n",
      "176     2    F              Business                     Spanish    ST-17\n",
      "177     2    f         Life Sciences                      German    ST-17\n",
      "178     3    f         Life Sciences                      German    ST-17\n",
      "179     3    f  Creative Disciplines                      German    ST-17\n",
      "180     3    f           Engineering                      German    ST-17\n",
      "181     3    m              Business                      German    ST-17\n",
      "182     3    m       Social Sciences                     Chilean    ST-17\n",
      "183     4    m       Social Sciences                      German    ST-17\n",
      "184     4    f           Engineering                      German    ST-17\n",
      "185     4    m              Business                      German    ST-17\n",
      "186     4    f                 Media                      German    ST-17\n",
      "187     4    f           Engineering                     Chilean    ST-17\n",
      "188     5    f              Business                      German    ST-17\n",
      "189     5    f         Life Sciences                      German    ST-17\n",
      "190     5    m       Social Sciences                     Finnish    ST-17\n",
      "191     5    f            Humanities                      German    ST-17\n",
      "192     5    m           Engineering                      German    ST-17\n",
      "193     6    f       Social Sciences                      German    ST-17\n",
      "194     6    f              Business                      German    ST-17\n",
      "195     6    m           Engineering                      German    ST-17\n",
      "196     6    m              Business                      German    ST-17\n",
      "197     6    F                 Media                   Hungarian    ST-17\n",
      "198     7    m           Engineering                      German    ST-17\n",
      "199     7  NaN            Humanities  British and Northern Irish    ST-17\n",
      "200     7    m           Engineering                      German    ST-17\n",
      "201     7    f                 Media                      German    ST-17\n",
      "202     7    f              Business                      German    ST-17\n",
      "203     8    m       Social Sciences                      German    ST-17\n",
      "204     8    f              Business                      German    ST-17\n",
      "205     8    m              Business                      German    ST-17\n",
      "206     8    f         Life Sciences                      German    ST-17\n",
      "207     8    f           Engineering                      Indian    ST-17\n",
      "208     9    m       Social Sciences                      German    ST-17\n",
      "209     9    f              Business                      German    ST-17\n",
      "210     9    f              Business                      German    ST-17\n",
      "211     9    m           Engineering                      German    ST-17\n",
      "212     9    f  Creative Disciplines              American or US    ST-17\n",
      "213    10    f              Business                       Czech    ST-17\n",
      "214    10    f           Engineering                      German    ST-17\n",
      "215    10    m         Life Sciences                      German    ST-17\n",
      "216    10    m       Social Sciences                      German    ST-17\n",
      "217    10    m              Business                      German    ST-17\n",
      "218    11    f              Business                     Russian    ST-17\n",
      "219    11    m           Engineering                      German    ST-17\n",
      "220    11    f                 Media                      German    ST-17\n",
      "221    11    m  Creative Disciplines                      German    ST-17\n",
      "222    11    f           Engineering                      German    ST-17\n",
      "223    12    m           Engineering                      German    ST-17\n",
      "224    12    f  Creative Disciplines                      German    ST-17\n",
      "225    12    f              Business                      German    ST-17\n",
      "226    12    f              Business                      German    ST-17\n",
      "227    12    m         Life Sciences                     Italian    ST-17\n",
      "228    13    m            Humanities                   Argentine    ST-17\n",
      "229    13    f              Business                      German    ST-17\n",
      "230    13    f                 Media                      German    ST-17\n",
      "231    13    m           Engineering                      German    ST-17\n",
      "232    13    f       Social Sciences                      German    ST-17\n",
      "233    14    m           Engineering                      German    ST-17\n",
      "234    14    f  Creative Disciplines                      German    ST-17\n",
      "235    14    m       Social Sciences                      German    ST-17\n",
      "236    14    m              Business                      German    ST-17\n",
      "237    14    f                 Media                    Japanese    ST-17\n",
      "238    15    f           Engineering                      German    ST-17\n",
      "239    15    m              Business                      German    ST-17\n",
      "240    15    m              Business                      German    ST-17\n",
      "241    15    f            Humanities                      German    ST-17\n",
      "242    15    f       Social Sciences                      German    ST-17\n",
      "243    15    m           Engineering                      German    ST-17\n",
      "244     0    m           Engineering                      German    WT-15\n",
      "245     0    m           Engineering                      German    WT-15\n",
      "246     0    m  Creative Disciplines                  Macedonian    WT-15\n",
      "247     0    f              Business                      Danish    WT-15\n",
      "248     0    f         Life Sciences                      German    WT-15\n",
      "249     1    f            Humanities      Dutch or Netherlandish    WT-15\n",
      "250     1    f              Business                      German    WT-15\n",
      "251     1    m         Life Sciences                      German    WT-15\n",
      "252     1    m           Engineering                      German    WT-15\n",
      "253     1    m           Engineering                      German    WT-15\n",
      "254     2    f  Creative Disciplines      Dutch or Netherlandish    WT-15\n",
      "255     2    m              Business                      German    WT-15\n",
      "256     2    m         Life Sciences                      German    WT-15\n",
      "257     2    f            Humanities                      German    WT-15\n",
      "258     2    m           Engineering                      German    WT-15\n",
      "259     3    f       Social Sciences                     Italian    WT-15\n",
      "260     3    f  Creative Disciplines                      German    WT-15\n",
      "261     3    m           Engineering                      German    WT-15\n",
      "262     3    m              Business                      German    WT-15\n",
      "263     3    m            Humanities                      German    WT-15\n",
      "264     4    m           Engineering                      German    WT-15\n",
      "265     4    f       Social Sciences                      German    WT-15\n",
      "266     4    m              Business                      German    WT-15\n",
      "267     4    f  Creative Disciplines                     Mexican    WT-15\n",
      "268     5    m                 Media                      German    WT-15\n",
      "269     5    f           Engineering                      German    WT-15\n",
      "270     5    m           Engineering                     Italian    WT-15\n",
      "271     5    m              Business                      German    WT-15\n",
      "272     5    f       Social Sciences                      German    WT-15\n",
      "273     6    m              Business                      German    WT-15\n",
      "274     6    f         Life Sciences                      German    WT-15\n",
      "275     6    m           Engineering                      German    WT-15\n",
      "276     6    f            Humanities                      German    WT-15\n",
      "277     6    m           Engineering                      Indian    WT-15\n",
      "278     7    f           Engineering      Dutch or Netherlandish    WT-15\n",
      "279     7    f       Social Sciences                      German    WT-15\n",
      "280     7    m              Business                      German    WT-15\n",
      "281     7    m         Life Sciences                      German    WT-15\n",
      "282     7    m              Business                      German    WT-15\n",
      "283     8    f                 Media                      German    WT-15\n",
      "284     8    m           Engineering                      German    WT-15\n",
      "285     8    m  Creative Disciplines                     Italian    WT-15\n",
      "286     8    m              Business                      German    WT-15\n",
      "287     8    f           Engineering                      German    WT-15\n",
      "288     9    m           Engineering                      German    WT-15\n",
      "289     9    f       Social Sciences                     Mexican    WT-15\n",
      "290     9    m         Life Sciences                      German    WT-15\n",
      "291     9    m              Business                      German    WT-15\n",
      "292     9    f              Business                  Sri Lankan    WT-15\n",
      "293    10    m           Engineering                      German    WT-15\n",
      "294    10    f  Creative Disciplines                   Brazilian    WT-15\n",
      "295    10    f              Business                      German    WT-15\n",
      "296    10    m            Humanities                      German    WT-15\n",
      "297    10    m           Engineering                      German    WT-15\n",
      "298    11    m           Engineering                     Chilean    WT-15\n",
      "299    11    f       Social Sciences                      German    WT-15\n",
      "300    11    m            Humanities                    Japanese    WT-15\n",
      "301    11    f              Business                      German    WT-15\n",
      "302    11    m           Engineering                      German    WT-15\n",
      "303    12    f           Engineering                      German    WT-15\n",
      "304    12    m  Creative Disciplines                      German    WT-15\n",
      "305    12    m         Life Sciences                      German    WT-15\n",
      "306    12    f              Business                       Cuban    WT-15\n",
      "307    12    m            Humanities                    Nepalese    WT-15\n",
      "308    13    m                 Media                      German    WT-15\n",
      "309    13    f            Humanities                      German    WT-15\n",
      "310    13    m              Business                      German    WT-15\n",
      "311    13    m           Engineering                      German    WT-15\n",
      "312    13    f  Creative Disciplines                   Brazilian    WT-15\n",
      "313    14    f              Business                      French    WT-15\n",
      "314    14    m         Life Sciences                      German    WT-15\n",
      "315    14    m           Engineering                      German    WT-15\n",
      "316    14    f       Social Sciences                      German    WT-15\n",
      "317    14    f            Humanities                      German    WT-15\n",
      "318    15    f       Social Sciences              American or US    WT-15\n",
      "319    15    f            Humanities                      German    WT-15\n",
      "320    15    m              Business                      German    WT-15\n",
      "321    15    m         Life Sciences                      German    WT-15\n",
      "322    15    m           Engineering                      German    WT-15\n"
     ]
    }
   ],
   "source": [
    "teams = pd.merge(teaming, data, on='hash')[['team', 'Sex', 'Discipline', 'Nationality', 'Semester']]\n",
    "with pd.option_context('display.max_rows', None, 'display.max_columns', None):\n",
    "    print(teams)"
   ]
  },
  {
   "cell_type": "code",
   "execution_count": 5,
   "metadata": {},
   "outputs": [
    {
     "data": {
      "text/plain": [
       "79"
      ]
     },
     "execution_count": 5,
     "metadata": {},
     "output_type": "execute_result"
    }
   ],
   "source": [
    "len(teams[teams['Nationality'] != 'German'])"
   ]
  },
  {
   "cell_type": "code",
   "execution_count": 6,
   "metadata": {},
   "outputs": [
    {
     "data": {
      "text/plain": [
       "Engineering             88\n",
       "Business                85\n",
       "Social Sciences         43\n",
       "Creative Disciplines    36\n",
       "Life Sciences           30\n",
       "Humanities              24\n",
       "Media                   17\n",
       "Name: Discipline, dtype: int64"
      ]
     },
     "execution_count": 6,
     "metadata": {},
     "output_type": "execute_result"
    }
   ],
   "source": [
    "teams['Discipline'].value_counts()"
   ]
  },
  {
   "cell_type": "code",
   "execution_count": 7,
   "metadata": {},
   "outputs": [
    {
     "data": {
      "text/plain": [
       "German                        244\n",
       "Chilean                         7\n",
       "Italian                         6\n",
       "American or US                  5\n",
       "Dutch or Netherlandish          5\n",
       "Russian                         4\n",
       "Danish                          4\n",
       "Indian                          3\n",
       "Argentine                       3\n",
       "Japanese                        3\n",
       "Chinese                         3\n",
       "Austrian                        3\n",
       "Mexican                         3\n",
       "Vietnamese                      2\n",
       "Brazilian                       2\n",
       "Spanish                         2\n",
       "French                          2\n",
       "Egyptian                        2\n",
       "Polish                          2\n",
       "Hungarian                       1\n",
       "Swiss                           1\n",
       "Sri Lankan                      1\n",
       "Nepalese                        1\n",
       "Slovenian (or Slovene)          1\n",
       "Cuban                           1\n",
       "British and Northern Irish      1\n",
       "Macedonian                      1\n",
       "Ecuadorean or Ecuadorian        1\n",
       "Lithuanian                      1\n",
       "Canadian                        1\n",
       "Australian                      1\n",
       "Czech                           1\n",
       "Luxembourgish                   1\n",
       "German/Vietnamese               1\n",
       "Kenyan                          1\n",
       "Finnish                         1\n",
       "Moroccan                        1\n",
       "Name: Nationality, dtype: int64"
      ]
     },
     "execution_count": 7,
     "metadata": {},
     "output_type": "execute_result"
    }
   ],
   "source": [
    "teams['Nationality'].value_counts()"
   ]
  },
  {
   "cell_type": "code",
   "execution_count": 8,
   "metadata": {},
   "outputs": [
    {
     "data": {
      "text/plain": [
       "f    162\n",
       "m    157\n",
       "F      3\n",
       "Name: Sex, dtype: int64"
      ]
     },
     "execution_count": 8,
     "metadata": {},
     "output_type": "execute_result"
    }
   ],
   "source": [
    "teams['Sex'].value_counts()"
   ]
  },
  {
   "cell_type": "code",
   "execution_count": 48,
   "metadata": {
    "collapsed": true
   },
   "outputs": [],
   "source": [
    "def single_entropy(team):\n",
    "    counter = Counter(team)\n",
    "    l = len(team)\n",
    "    return -sum((c/l) * math.log(c/l) for c in counter.values())\n",
    "        \n",
    "def entropy(teams):\n",
    "    return sum(single_entropy(team) for team in teams)\n",
    "\n",
    "def max_entropy(value_map):\n",
    "    n_teams = 16\n",
    "    teams = []\n",
    "    for _ in range(n_teams):\n",
    "        teams.append([])\n",
    "    i = 0\n",
    "    for attr_id, value_count in enumerate(value_map):\n",
    "        base_n = value_count // n_teams\n",
    "        for team in teams:\n",
    "            team.extend([attr_id] * base_n)\n",
    "        value_count = value_count % n_teams\n",
    "        while value_count > 0:\n",
    "            teams[i].append(attr_id)\n",
    "            value_count -= 1\n",
    "            i = (i + 1) % n_teams\n",
    "    return entropy(teams)\n",
    "\n",
    "\n",
    "def min_entropy(value_map):\n",
    "    n_teams = 16\n",
    "    teams = []\n",
    "    for _ in range(n_teams):\n",
    "        teams.append([])\n",
    "    offset = 0\n",
    "    for attr_id, value_count in enumerate(value_map):\n",
    "        for i in range(value_count):\n",
    "            teams[((i + offset) // 5) % 16].append(attr_id)\n",
    "        offset += value_count\n",
    "    return entropy(teams)\n",
    "    \n",
    "\n",
    "def max_entropy_teaming(teaming):\n",
    "    attrs = ['Sex', 'Nationality', 'Discipline']\n",
    "    return sum(max_entropy(teaming[attr].value_counts()) for attr in attrs)\n",
    "\n",
    "def min_entropy_teaming(teaming):\n",
    "    attrs = ['Sex', 'Nationality', 'Discipline']\n",
    "    return sum(min_entropy(teaming[attr].value_counts()) for attr in attrs)\n",
    "\n",
    "def print_entropies(teaming):\n",
    "    attrs = ['Sex', 'Nationality', 'Discipline']\n",
    "    for attr in attrs:\n",
    "        print(attr)\n",
    "        print('no teaming: {:0.4f}'.format(single_entropy(teams[attr].values)))\n",
    "        print('teaming: {:0.4f}'.format(max_entropy(teaming[attr].value_counts())))\n",
    "        print('')\n",
    "    print('total teaming: {:0.4f}'.format(max_entropy_teaming(teaming)))\n"
   ]
  },
  {
   "cell_type": "code",
   "execution_count": 49,
   "metadata": {},
   "outputs": [
    {
     "name": "stdout",
     "output_type": "stream",
     "text": [
      "ST-16 9.49094037803773\n",
      "WT-16 10.407862037073782\n",
      "ST-17 9.317638041395403\n",
      "WT-15 10.268601673799896\n"
     ]
    }
   ],
   "source": [
    "for semester in teaming[\"semester\"].unique():\n",
    "    current_team = teams[teams['Semester'] == semester]\n",
    "    print(semester, min_entropy_teaming(current_team))"
   ]
  },
  {
   "cell_type": "code",
   "execution_count": 22,
   "metadata": {},
   "outputs": [
    {
     "data": {
      "text/plain": [
       "15.150218430826644"
      ]
     },
     "execution_count": 22,
     "metadata": {},
     "output_type": "execute_result"
    }
   ],
   "source": [
    "max_entropy(teams['Nationality'].value_counts())"
   ]
  },
  {
   "cell_type": "code",
   "execution_count": 27,
   "metadata": {},
   "outputs": [
    {
     "name": "stdout",
     "output_type": "stream",
     "text": [
      "ST-16 42.650438082902824\n",
      "WT-16 45.07472937880132\n",
      "ST-17 42.19514805803991\n",
      "WT-15 43.99573423209929\n"
     ]
    }
   ],
   "source": [
    "for semester in teaming[\"semester\"].unique():\n",
    "    current_team = teams[teams['Semester'] == semester]\n",
    "    print(semester, max_entropy_teaming(current_team))"
   ]
  },
  {
   "cell_type": "code",
   "execution_count": 11,
   "metadata": {},
   "outputs": [
    {
     "data": {
      "text/plain": [
       "55.098895307025195"
      ]
     },
     "execution_count": 11,
     "metadata": {},
     "output_type": "execute_result"
    }
   ],
   "source": [
    "max_entropy_teaming(teams)"
   ]
  },
  {
   "cell_type": "code",
   "execution_count": 12,
   "metadata": {},
   "outputs": [
    {
     "data": {
      "text/plain": [
       "1.3784000129863025"
      ]
     },
     "execution_count": 12,
     "metadata": {},
     "output_type": "execute_result"
    }
   ],
   "source": [
    "single_entropy(teams['Nationality'].values)"
   ]
  },
  {
   "cell_type": "code",
   "execution_count": 13,
   "metadata": {},
   "outputs": [
    {
     "name": "stdout",
     "output_type": "stream",
     "text": [
      "Sex\n",
      "no teaming: 0.7581\n",
      "teaming: 11.5602\n",
      "\n",
      "Nationality\n",
      "no teaming: 1.3784\n",
      "teaming: 15.1502\n",
      "\n",
      "Discipline\n",
      "no teaming: 1.7874\n",
      "teaming: 28.3884\n",
      "\n",
      "total teaming: 55.0989\n"
     ]
    }
   ],
   "source": [
    "print_entropies(teams)"
   ]
  },
  {
   "cell_type": "code",
   "execution_count": null,
   "metadata": {
    "collapsed": true
   },
   "outputs": [],
   "source": []
  }
 ],
 "metadata": {
  "kernelspec": {
   "display_name": "venv3.5",
   "language": "python",
   "name": "venv3.5"
  },
  "language_info": {
   "codemirror_mode": {
    "name": "ipython",
    "version": 3
   },
   "file_extension": ".py",
   "mimetype": "text/x-python",
   "name": "python",
   "nbconvert_exporter": "python",
   "pygments_lexer": "ipython3",
   "version": "3.5.2"
  }
 },
 "nbformat": 4,
 "nbformat_minor": 2
}
